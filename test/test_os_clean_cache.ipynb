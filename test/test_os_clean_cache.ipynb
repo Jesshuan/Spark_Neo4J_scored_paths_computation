{
 "cells": [
  {
   "cell_type": "code",
   "execution_count": 9,
   "metadata": {},
   "outputs": [],
   "source": [
    "import os\n",
    "\n",
    "import time"
   ]
  },
  {
   "cell_type": "code",
   "execution_count": 2,
   "metadata": {},
   "outputs": [],
   "source": [
    "from variables.memory_path import MEMORY_PATHS_FOLDER"
   ]
  },
  {
   "cell_type": "code",
   "execution_count": 3,
   "metadata": {},
   "outputs": [
    {
     "data": {
      "text/plain": [
       "'/opt/bitnami/spark/work/data/memory_paths'"
      ]
     },
     "execution_count": 3,
     "metadata": {},
     "output_type": "execute_result"
    }
   ],
   "source": [
    "MEMORY_PATHS_FOLDER"
   ]
  },
  {
   "cell_type": "code",
   "execution_count": 5,
   "metadata": {},
   "outputs": [],
   "source": [
    "path = './../data/memory_paths/'"
   ]
  },
  {
   "cell_type": "code",
   "execution_count": 14,
   "metadata": {},
   "outputs": [],
   "source": [
    "list_file = os.listdir(path)"
   ]
  },
  {
   "cell_type": "code",
   "execution_count": 22,
   "metadata": {},
   "outputs": [],
   "source": [
    "key_start = '.part'"
   ]
  },
  {
   "cell_type": "code",
   "execution_count": 33,
   "metadata": {},
   "outputs": [
    {
     "name": "stdout",
     "output_type": "stream",
     "text": [
      ".part-00000-f88bb25f-cc6e-443c-bb30-ebc05288f83c-c000.snappy.parquet.crc\n"
     ]
    }
   ],
   "source": [
    "tupple_list = []\n",
    "\n",
    "for file in list_file:\n",
    "    if file.startswith(key_start):\n",
    "        mode, ino, dev, nlink, uid, gid, size, atime, mtime, ctime = os.stat(path + file)\n",
    "        tupple_list.append((file, ctime))\n",
    "\n",
    "tupple_list.sort(key = lambda x: x[1])\n",
    "\n",
    "len_t_l = len(tupple_list)\n",
    "\n",
    "for tup_file in tupple_list[0:len_t_l//2]:\n",
    "\n",
    "    print(tup_file[0])\n",
    "    #os.remove(path + tup_file[0])"
   ]
  },
  {
   "cell_type": "code",
   "execution_count": 29,
   "metadata": {},
   "outputs": [],
   "source": [
    "tupple_list.sort(key = lambda x: x[1])"
   ]
  },
  {
   "cell_type": "code",
   "execution_count": 31,
   "metadata": {},
   "outputs": [
    {
     "data": {
      "text/plain": [
       "[('.part-00000-f88bb25f-cc6e-443c-bb30-ebc05288f83c-c000.snappy.parquet.crc',\n",
       "  1695900316),\n",
       " ('.part-00000-df9da2b8-606e-48bd-a4f7-2e19114e6e39-c000.snappy.parquet.crc',\n",
       "  1695900340)]"
      ]
     },
     "execution_count": 31,
     "metadata": {},
     "output_type": "execute_result"
    }
   ],
   "source": [
    "tupple_list"
   ]
  },
  {
   "cell_type": "code",
   "execution_count": 6,
   "metadata": {},
   "outputs": [],
   "source": [
    "(mode, ino, dev, nlink, uid, gid, size, atime, mtime, ctime) = os.stat(path)"
   ]
  },
  {
   "cell_type": "code",
   "execution_count": 7,
   "metadata": {},
   "outputs": [
    {
     "data": {
      "text/plain": [
       "1695908332"
      ]
     },
     "execution_count": 7,
     "metadata": {},
     "output_type": "execute_result"
    }
   ],
   "source": [
    "mtime"
   ]
  },
  {
   "cell_type": "code",
   "execution_count": 10,
   "metadata": {},
   "outputs": [],
   "source": [
    "a=time.ctime(mtime).split()"
   ]
  },
  {
   "cell_type": "code",
   "execution_count": null,
   "metadata": {},
   "outputs": [],
   "source": [
    "\n",
    "a=time.ctime(mtime).split(); b=[]\n",
    "b.append(a[4]); b.append(a[1]); b.append(a[0]); b.append(a[3])\n",
    "print b"
   ]
  }
 ],
 "metadata": {
  "kernelspec": {
   "display_name": "ECartoMobile",
   "language": "python",
   "name": "python3"
  },
  "language_info": {
   "codemirror_mode": {
    "name": "ipython",
    "version": 3
   },
   "file_extension": ".py",
   "mimetype": "text/x-python",
   "name": "python",
   "nbconvert_exporter": "python",
   "pygments_lexer": "ipython3",
   "version": "3.11.3"
  },
  "orig_nbformat": 4
 },
 "nbformat": 4,
 "nbformat_minor": 2
}
