{
 "cells": [
  {
   "cell_type": "code",
   "execution_count": 1,
   "metadata": {},
   "outputs": [],
   "source": [
    "import os\n",
    "\n",
    "import time\n",
    "\n",
    "import json"
   ]
  },
  {
   "cell_type": "code",
   "execution_count": 2,
   "metadata": {},
   "outputs": [
    {
     "ename": "ModuleNotFoundError",
     "evalue": "No module named 'variables'",
     "output_type": "error",
     "traceback": [
      "\u001b[0;31m---------------------------------------------------------------------------\u001b[0m",
      "\u001b[0;31mModuleNotFoundError\u001b[0m                       Traceback (most recent call last)",
      "\u001b[1;32m/home/jesshuan/Bureau/E-Carto-Spark_Test/test/test_os_clean_cache.ipynb Cellule 2\u001b[0m line \u001b[0;36m1\n\u001b[0;32m----> <a href='vscode-notebook-cell:/home/jesshuan/Bureau/E-Carto-Spark_Test/test/test_os_clean_cache.ipynb#W1sZmlsZQ%3D%3D?line=0'>1</a>\u001b[0m \u001b[39mfrom\u001b[39;00m \u001b[39mvariables\u001b[39;00m\u001b[39m.\u001b[39;00m\u001b[39mmemory_path\u001b[39;00m \u001b[39mimport\u001b[39;00m MEMORY_PATHS_FOLDER\n",
      "\u001b[0;31mModuleNotFoundError\u001b[0m: No module named 'variables'"
     ]
    }
   ],
   "source": [
    "from variables.memory_path import MEMORY_PATHS_FOLDER"
   ]
  },
  {
   "cell_type": "code",
   "execution_count": null,
   "metadata": {},
   "outputs": [
    {
     "data": {
      "text/plain": [
       "'/opt/bitnami/spark/work/data/memory_paths'"
      ]
     },
     "execution_count": 3,
     "metadata": {},
     "output_type": "execute_result"
    }
   ],
   "source": [
    "MEMORY_PATHS_FOLDER"
   ]
  },
  {
   "cell_type": "code",
   "execution_count": 3,
   "metadata": {},
   "outputs": [],
   "source": [
    "path = './../data/memory_paths/_delta_log'"
   ]
  },
  {
   "cell_type": "code",
   "execution_count": 4,
   "metadata": {},
   "outputs": [],
   "source": [
    "list_json = os.listdir(path)"
   ]
  },
  {
   "cell_type": "code",
   "execution_count": 5,
   "metadata": {},
   "outputs": [
    {
     "data": {
      "text/plain": [
       "['.00000000000000000000.json.crc',\n",
       " '00000000000000000000.json',\n",
       " '.00000000000000000003.json.crc',\n",
       " '.00000000000000000001.json.crc',\n",
       " '.00000000000000000006.json.crc',\n",
       " '.00000000000000000005.json.crc',\n",
       " '._last_checkpoint.crc',\n",
       " '.00000000000000000010.checkpoint.parquet.crc',\n",
       " '00000000000000000005.json',\n",
       " '.00000000000000000010.json.crc',\n",
       " '00000000000000000009.json',\n",
       " '.00000000000000000008.json.crc',\n",
       " '00000000000000000010.json',\n",
       " '.00000000000000000009.json.crc',\n",
       " '00000000000000000002.json',\n",
       " '00000000000000000006.json',\n",
       " '00000000000000000004.json',\n",
       " '00000000000000000003.json',\n",
       " '00000000000000000010.checkpoint.parquet',\n",
       " '_last_checkpoint',\n",
       " '00000000000000000008.json',\n",
       " '00000000000000000007.json',\n",
       " '.00000000000000000007.json.crc',\n",
       " '00000000000000000001.json',\n",
       " '.00000000000000000004.json.crc',\n",
       " '.00000000000000000002.json.crc']"
      ]
     },
     "execution_count": 5,
     "metadata": {},
     "output_type": "execute_result"
    }
   ],
   "source": [
    "list_json"
   ]
  },
  {
   "cell_type": "code",
   "execution_count": 14,
   "metadata": {},
   "outputs": [],
   "source": [
    "key_start = '00'\n",
    "key_end = \".json\""
   ]
  },
  {
   "cell_type": "code",
   "execution_count": 15,
   "metadata": {},
   "outputs": [],
   "source": [
    "tupple_list = []\n",
    "\n",
    "for file in list_json:\n",
    "    if file.startswith(key_start) and file.endswith(key_end):\n",
    "        mode, ino, dev, nlink, uid, gid, size, atime, mtime, ctime = os.stat(path + \"/\" + file)\n",
    "        tupple_list.append((file, ctime))"
   ]
  },
  {
   "cell_type": "code",
   "execution_count": 16,
   "metadata": {},
   "outputs": [
    {
     "data": {
      "text/plain": [
       "[('00000000000000000000.json', 1695934079),\n",
       " ('00000000000000000005.json', 1695959181),\n",
       " ('00000000000000000009.json', 1695979549),\n",
       " ('00000000000000000010.json', 1696013463),\n",
       " ('00000000000000000002.json', 1695944222),\n",
       " ('00000000000000000006.json', 1695964133),\n",
       " ('00000000000000000004.json', 1695954139),\n",
       " ('00000000000000000003.json', 1695949163),\n",
       " ('00000000000000000008.json', 1695974362),\n",
       " ('00000000000000000007.json', 1695969176),\n",
       " ('00000000000000000001.json', 1695939173)]"
      ]
     },
     "execution_count": 16,
     "metadata": {},
     "output_type": "execute_result"
    }
   ],
   "source": [
    "tupple_list"
   ]
  },
  {
   "cell_type": "code",
   "execution_count": 17,
   "metadata": {},
   "outputs": [],
   "source": [
    "tupple_list.sort(key = lambda x: x[1])"
   ]
  },
  {
   "cell_type": "code",
   "execution_count": 18,
   "metadata": {},
   "outputs": [],
   "source": [
    "json_latest = tupple_list[-1][0]"
   ]
  },
  {
   "cell_type": "code",
   "execution_count": 19,
   "metadata": {},
   "outputs": [
    {
     "data": {
      "text/plain": [
       "'00000000000000000010.json'"
      ]
     },
     "execution_count": 19,
     "metadata": {},
     "output_type": "execute_result"
    }
   ],
   "source": [
    "json_latest"
   ]
  },
  {
   "cell_type": "code",
   "execution_count": 20,
   "metadata": {},
   "outputs": [],
   "source": [
    "with open(path + '/' + json_latest, \"r\") as f:\n",
    "    jsonContent = f.read()"
   ]
  },
  {
   "cell_type": "code",
   "execution_count": 21,
   "metadata": {},
   "outputs": [],
   "source": [
    "json_term_list = jsonContent.split(\"{\")"
   ]
  },
  {
   "cell_type": "code",
   "execution_count": 22,
   "metadata": {},
   "outputs": [],
   "source": [
    "kept_file_list = []\n",
    "\n",
    "for i, term in enumerate(json_term_list):\n",
    "\n",
    "    if term == '\"add\":' or term == '\"remove\":':\n",
    "        next_term_file = json_term_list[i+1].split('\"path\":\"')[1].split('\",\"')[0]\n",
    "        kept_file_list.append(next_term_file)"
   ]
  },
  {
   "cell_type": "code",
   "execution_count": 23,
   "metadata": {},
   "outputs": [
    {
     "data": {
      "text/plain": [
       "['part-00000-d7755816-1735-43e5-963a-35958092238c-c000.snappy.parquet',\n",
       " 'part-00001-a6c65db9-35c1-4da9-aa03-6c09e8bc82c6-c000.snappy.parquet',\n",
       " 'part-00002-dfa22540-09c7-4d0b-93d3-1cbeeb9ab305-c000.snappy.parquet',\n",
       " 'part-00003-e34d3235-06e6-451a-a9e0-0c697eccee2d-c000.snappy.parquet',\n",
       " 'part-00004-5661acbd-b995-47aa-b97b-f2ff0843ea91-c000.snappy.parquet',\n",
       " 'part-00005-ca38ede5-569c-4a5b-a378-4d164843f82b-c000.snappy.parquet',\n",
       " 'part-00002-b0d0d045-b3d3-45ed-86c9-d3ce6da458db-c000.snappy.parquet',\n",
       " 'part-00004-86d8c392-f26b-40fa-bc07-6475af27aa56-c000.snappy.parquet',\n",
       " 'part-00001-87ab48b0-6200-4d9b-bfa4-0b9a4b5426c4-c000.snappy.parquet',\n",
       " 'part-00005-b75ce89c-67d1-4083-acd5-10e01b4c0897-c000.snappy.parquet',\n",
       " 'part-00000-e158f742-a2cf-4b2e-8d4b-26cf0bdb51f2-c000.snappy.parquet',\n",
       " 'part-00003-8e10254c-20ef-4e97-8583-9dc16dbc2c55-c000.snappy.parquet']"
      ]
     },
     "execution_count": 23,
     "metadata": {},
     "output_type": "execute_result"
    }
   ],
   "source": [
    "kept_file_list"
   ]
  },
  {
   "cell_type": "code",
   "execution_count": 24,
   "metadata": {},
   "outputs": [],
   "source": [
    "path = './../data/memory_paths/'"
   ]
  },
  {
   "cell_type": "code",
   "execution_count": 25,
   "metadata": {},
   "outputs": [],
   "source": [
    "list_file = os.listdir(path)"
   ]
  },
  {
   "cell_type": "code",
   "execution_count": 26,
   "metadata": {},
   "outputs": [
    {
     "data": {
      "text/plain": [
       "['.part-00000-d7755816-1735-43e5-963a-35958092238c-c000.snappy.parquet.crc',\n",
       " 'part-00003-8e10254c-20ef-4e97-8583-9dc16dbc2c55-c000.snappy.parquet',\n",
       " 'part-00004-5661acbd-b995-47aa-b97b-f2ff0843ea91-c000.snappy.parquet',\n",
       " '.part-00001-87ab48b0-6200-4d9b-bfa4-0b9a4b5426c4-c000.snappy.parquet.crc',\n",
       " 'part-00004-86d8c392-f26b-40fa-bc07-6475af27aa56-c000.snappy.parquet',\n",
       " '.part-00003-8e10254c-20ef-4e97-8583-9dc16dbc2c55-c000.snappy.parquet.crc',\n",
       " 'part-00001-a6c65db9-35c1-4da9-aa03-6c09e8bc82c6-c000.snappy.parquet',\n",
       " '.part-00002-b0d0d045-b3d3-45ed-86c9-d3ce6da458db-c000.snappy.parquet.crc',\n",
       " 'part-00002-dfa22540-09c7-4d0b-93d3-1cbeeb9ab305-c000.snappy.parquet',\n",
       " '.part-00004-5661acbd-b995-47aa-b97b-f2ff0843ea91-c000.snappy.parquet.crc',\n",
       " 'part-00002-b0d0d045-b3d3-45ed-86c9-d3ce6da458db-c000.snappy.parquet',\n",
       " '.part-00004-86d8c392-f26b-40fa-bc07-6475af27aa56-c000.snappy.parquet.crc',\n",
       " 'part-00000-d7755816-1735-43e5-963a-35958092238c-c000.snappy.parquet',\n",
       " '.part-00005-b75ce89c-67d1-4083-acd5-10e01b4c0897-c000.snappy.parquet.crc',\n",
       " '.part-00003-e34d3235-06e6-451a-a9e0-0c697eccee2d-c000.snappy.parquet.crc',\n",
       " '.part-00005-ca38ede5-569c-4a5b-a378-4d164843f82b-c000.snappy.parquet.crc',\n",
       " 'part-00005-ca38ede5-569c-4a5b-a378-4d164843f82b-c000.snappy.parquet',\n",
       " 'part-00005-b75ce89c-67d1-4083-acd5-10e01b4c0897-c000.snappy.parquet',\n",
       " 'part-00003-e34d3235-06e6-451a-a9e0-0c697eccee2d-c000.snappy.parquet',\n",
       " '.part-00002-dfa22540-09c7-4d0b-93d3-1cbeeb9ab305-c000.snappy.parquet.crc',\n",
       " '.part-00001-a6c65db9-35c1-4da9-aa03-6c09e8bc82c6-c000.snappy.parquet.crc',\n",
       " 'part-00000-e158f742-a2cf-4b2e-8d4b-26cf0bdb51f2-c000.snappy.parquet',\n",
       " '_delta_log',\n",
       " '.part-00000-e158f742-a2cf-4b2e-8d4b-26cf0bdb51f2-c000.snappy.parquet.crc',\n",
       " 'part-00001-87ab48b0-6200-4d9b-bfa4-0b9a4b5426c4-c000.snappy.parquet']"
      ]
     },
     "execution_count": 26,
     "metadata": {},
     "output_type": "execute_result"
    }
   ],
   "source": [
    "list_file"
   ]
  },
  {
   "cell_type": "code",
   "execution_count": 27,
   "metadata": {},
   "outputs": [],
   "source": [
    "key_start = \"part\""
   ]
  },
  {
   "cell_type": "code",
   "execution_count": 28,
   "metadata": {},
   "outputs": [],
   "source": [
    "part_list_file = [file for file in list_file if file.startswith(key_start)]"
   ]
  },
  {
   "cell_type": "code",
   "execution_count": 29,
   "metadata": {},
   "outputs": [
    {
     "data": {
      "text/plain": [
       "['part-00003-8e10254c-20ef-4e97-8583-9dc16dbc2c55-c000.snappy.parquet',\n",
       " 'part-00004-5661acbd-b995-47aa-b97b-f2ff0843ea91-c000.snappy.parquet',\n",
       " 'part-00004-86d8c392-f26b-40fa-bc07-6475af27aa56-c000.snappy.parquet',\n",
       " 'part-00001-a6c65db9-35c1-4da9-aa03-6c09e8bc82c6-c000.snappy.parquet',\n",
       " 'part-00002-dfa22540-09c7-4d0b-93d3-1cbeeb9ab305-c000.snappy.parquet',\n",
       " 'part-00002-b0d0d045-b3d3-45ed-86c9-d3ce6da458db-c000.snappy.parquet',\n",
       " 'part-00000-d7755816-1735-43e5-963a-35958092238c-c000.snappy.parquet',\n",
       " 'part-00005-ca38ede5-569c-4a5b-a378-4d164843f82b-c000.snappy.parquet',\n",
       " 'part-00005-b75ce89c-67d1-4083-acd5-10e01b4c0897-c000.snappy.parquet',\n",
       " 'part-00003-e34d3235-06e6-451a-a9e0-0c697eccee2d-c000.snappy.parquet',\n",
       " 'part-00000-e158f742-a2cf-4b2e-8d4b-26cf0bdb51f2-c000.snappy.parquet',\n",
       " 'part-00001-87ab48b0-6200-4d9b-bfa4-0b9a4b5426c4-c000.snappy.parquet']"
      ]
     },
     "execution_count": 29,
     "metadata": {},
     "output_type": "execute_result"
    }
   ],
   "source": [
    "part_list_file"
   ]
  },
  {
   "cell_type": "code",
   "execution_count": 30,
   "metadata": {},
   "outputs": [
    {
     "data": {
      "text/plain": [
       "['part-00000-d7755816-1735-43e5-963a-35958092238c-c000.snappy.parquet',\n",
       " 'part-00001-a6c65db9-35c1-4da9-aa03-6c09e8bc82c6-c000.snappy.parquet',\n",
       " 'part-00002-dfa22540-09c7-4d0b-93d3-1cbeeb9ab305-c000.snappy.parquet',\n",
       " 'part-00003-e34d3235-06e6-451a-a9e0-0c697eccee2d-c000.snappy.parquet',\n",
       " 'part-00004-5661acbd-b995-47aa-b97b-f2ff0843ea91-c000.snappy.parquet',\n",
       " 'part-00005-ca38ede5-569c-4a5b-a378-4d164843f82b-c000.snappy.parquet',\n",
       " 'part-00002-b0d0d045-b3d3-45ed-86c9-d3ce6da458db-c000.snappy.parquet',\n",
       " 'part-00004-86d8c392-f26b-40fa-bc07-6475af27aa56-c000.snappy.parquet',\n",
       " 'part-00001-87ab48b0-6200-4d9b-bfa4-0b9a4b5426c4-c000.snappy.parquet',\n",
       " 'part-00005-b75ce89c-67d1-4083-acd5-10e01b4c0897-c000.snappy.parquet',\n",
       " 'part-00000-e158f742-a2cf-4b2e-8d4b-26cf0bdb51f2-c000.snappy.parquet',\n",
       " 'part-00003-8e10254c-20ef-4e97-8583-9dc16dbc2c55-c000.snappy.parquet']"
      ]
     },
     "execution_count": 30,
     "metadata": {},
     "output_type": "execute_result"
    }
   ],
   "source": [
    "kept_file_list"
   ]
  },
  {
   "cell_type": "code",
   "execution_count": 31,
   "metadata": {},
   "outputs": [],
   "source": [
    "for file in part_list_file:\n",
    "    if file not in kept_file_list:\n",
    "        print(file)"
   ]
  },
  {
   "cell_type": "markdown",
   "metadata": {},
   "source": [
    "----"
   ]
  },
  {
   "cell_type": "code",
   "execution_count": null,
   "metadata": {},
   "outputs": [],
   "source": [
    "part_list_file = []\n",
    "\n",
    "for file in list_file:\n",
    "    if file.startswith(key_start):\n",
    "        part_list_file"
   ]
  },
  {
   "cell_type": "code",
   "execution_count": 52,
   "metadata": {},
   "outputs": [
    {
     "ename": "JSONDecodeError",
     "evalue": "Extra data: line 2 column 1 (char 382)",
     "output_type": "error",
     "traceback": [
      "\u001b[0;31m---------------------------------------------------------------------------\u001b[0m",
      "\u001b[0;31mJSONDecodeError\u001b[0m                           Traceback (most recent call last)",
      "\u001b[1;32m/home/jesshuan/Bureau/E-Carto-Spark_Test/test/test_os_clean_cache.ipynb Cellule 13\u001b[0m line \u001b[0;36m2\n\u001b[1;32m      <a href='vscode-notebook-cell:/home/jesshuan/Bureau/E-Carto-Spark_Test/test/test_os_clean_cache.ipynb#X26sZmlsZQ%3D%3D?line=0'>1</a>\u001b[0m \u001b[39mwith\u001b[39;00m \u001b[39mopen\u001b[39m(path \u001b[39m+\u001b[39m \u001b[39m'\u001b[39m\u001b[39m/\u001b[39m\u001b[39m'\u001b[39m \u001b[39m+\u001b[39m json_latest, \u001b[39m'\u001b[39m\u001b[39mr\u001b[39m\u001b[39m'\u001b[39m) \u001b[39mas\u001b[39;00m f:\n\u001b[0;32m----> <a href='vscode-notebook-cell:/home/jesshuan/Bureau/E-Carto-Spark_Test/test/test_os_clean_cache.ipynb#X26sZmlsZQ%3D%3D?line=1'>2</a>\u001b[0m     data \u001b[39m=\u001b[39m json\u001b[39m.\u001b[39;49mload(f)\n",
      "File \u001b[0;32m~/miniconda3/envs/ECartoMobile/lib/python3.11/json/__init__.py:293\u001b[0m, in \u001b[0;36mload\u001b[0;34m(fp, cls, object_hook, parse_float, parse_int, parse_constant, object_pairs_hook, **kw)\u001b[0m\n\u001b[1;32m    274\u001b[0m \u001b[39mdef\u001b[39;00m \u001b[39mload\u001b[39m(fp, \u001b[39m*\u001b[39m, \u001b[39mcls\u001b[39m\u001b[39m=\u001b[39m\u001b[39mNone\u001b[39;00m, object_hook\u001b[39m=\u001b[39m\u001b[39mNone\u001b[39;00m, parse_float\u001b[39m=\u001b[39m\u001b[39mNone\u001b[39;00m,\n\u001b[1;32m    275\u001b[0m         parse_int\u001b[39m=\u001b[39m\u001b[39mNone\u001b[39;00m, parse_constant\u001b[39m=\u001b[39m\u001b[39mNone\u001b[39;00m, object_pairs_hook\u001b[39m=\u001b[39m\u001b[39mNone\u001b[39;00m, \u001b[39m*\u001b[39m\u001b[39m*\u001b[39mkw):\n\u001b[1;32m    276\u001b[0m \u001b[39m    \u001b[39m\u001b[39m\"\"\"Deserialize ``fp`` (a ``.read()``-supporting file-like object containing\u001b[39;00m\n\u001b[1;32m    277\u001b[0m \u001b[39m    a JSON document) to a Python object.\u001b[39;00m\n\u001b[1;32m    278\u001b[0m \n\u001b[0;32m   (...)\u001b[0m\n\u001b[1;32m    291\u001b[0m \u001b[39m    kwarg; otherwise ``JSONDecoder`` is used.\u001b[39;00m\n\u001b[1;32m    292\u001b[0m \u001b[39m    \"\"\"\u001b[39;00m\n\u001b[0;32m--> 293\u001b[0m     \u001b[39mreturn\u001b[39;00m loads(fp\u001b[39m.\u001b[39;49mread(),\n\u001b[1;32m    294\u001b[0m         \u001b[39mcls\u001b[39;49m\u001b[39m=\u001b[39;49m\u001b[39mcls\u001b[39;49m, object_hook\u001b[39m=\u001b[39;49mobject_hook,\n\u001b[1;32m    295\u001b[0m         parse_float\u001b[39m=\u001b[39;49mparse_float, parse_int\u001b[39m=\u001b[39;49mparse_int,\n\u001b[1;32m    296\u001b[0m         parse_constant\u001b[39m=\u001b[39;49mparse_constant, object_pairs_hook\u001b[39m=\u001b[39;49mobject_pairs_hook, \u001b[39m*\u001b[39;49m\u001b[39m*\u001b[39;49mkw)\n",
      "File \u001b[0;32m~/miniconda3/envs/ECartoMobile/lib/python3.11/json/__init__.py:346\u001b[0m, in \u001b[0;36mloads\u001b[0;34m(s, cls, object_hook, parse_float, parse_int, parse_constant, object_pairs_hook, **kw)\u001b[0m\n\u001b[1;32m    341\u001b[0m     s \u001b[39m=\u001b[39m s\u001b[39m.\u001b[39mdecode(detect_encoding(s), \u001b[39m'\u001b[39m\u001b[39msurrogatepass\u001b[39m\u001b[39m'\u001b[39m)\n\u001b[1;32m    343\u001b[0m \u001b[39mif\u001b[39;00m (\u001b[39mcls\u001b[39m \u001b[39mis\u001b[39;00m \u001b[39mNone\u001b[39;00m \u001b[39mand\u001b[39;00m object_hook \u001b[39mis\u001b[39;00m \u001b[39mNone\u001b[39;00m \u001b[39mand\u001b[39;00m\n\u001b[1;32m    344\u001b[0m         parse_int \u001b[39mis\u001b[39;00m \u001b[39mNone\u001b[39;00m \u001b[39mand\u001b[39;00m parse_float \u001b[39mis\u001b[39;00m \u001b[39mNone\u001b[39;00m \u001b[39mand\u001b[39;00m\n\u001b[1;32m    345\u001b[0m         parse_constant \u001b[39mis\u001b[39;00m \u001b[39mNone\u001b[39;00m \u001b[39mand\u001b[39;00m object_pairs_hook \u001b[39mis\u001b[39;00m \u001b[39mNone\u001b[39;00m \u001b[39mand\u001b[39;00m \u001b[39mnot\u001b[39;00m kw):\n\u001b[0;32m--> 346\u001b[0m     \u001b[39mreturn\u001b[39;00m _default_decoder\u001b[39m.\u001b[39;49mdecode(s)\n\u001b[1;32m    347\u001b[0m \u001b[39mif\u001b[39;00m \u001b[39mcls\u001b[39m \u001b[39mis\u001b[39;00m \u001b[39mNone\u001b[39;00m:\n\u001b[1;32m    348\u001b[0m     \u001b[39mcls\u001b[39m \u001b[39m=\u001b[39m JSONDecoder\n",
      "File \u001b[0;32m~/miniconda3/envs/ECartoMobile/lib/python3.11/json/decoder.py:340\u001b[0m, in \u001b[0;36mJSONDecoder.decode\u001b[0;34m(self, s, _w)\u001b[0m\n\u001b[1;32m    338\u001b[0m end \u001b[39m=\u001b[39m _w(s, end)\u001b[39m.\u001b[39mend()\n\u001b[1;32m    339\u001b[0m \u001b[39mif\u001b[39;00m end \u001b[39m!=\u001b[39m \u001b[39mlen\u001b[39m(s):\n\u001b[0;32m--> 340\u001b[0m     \u001b[39mraise\u001b[39;00m JSONDecodeError(\u001b[39m\"\u001b[39m\u001b[39mExtra data\u001b[39m\u001b[39m\"\u001b[39m, s, end)\n\u001b[1;32m    341\u001b[0m \u001b[39mreturn\u001b[39;00m obj\n",
      "\u001b[0;31mJSONDecodeError\u001b[0m: Extra data: line 2 column 1 (char 382)"
     ]
    }
   ],
   "source": [
    "with open(path + '/' + json_latest, 'r') as f:\n",
    "    data = json.load(f)"
   ]
  },
  {
   "cell_type": "code",
   "execution_count": 6,
   "metadata": {},
   "outputs": [
    {
     "name": "stdout",
     "output_type": "stream",
     "text": [
      ".part-00000-d34b7c8d-f180-404c-9357-eea6aea1519a-c000.snappy.parquet.crc\n",
      ".part-00001-e04e75e1-a9d3-4741-a6d6-db191be29a04-c000.snappy.parquet.crc\n",
      ".part-00002-4e7e9509-4602-4f35-9a04-5003d9f410c7-c000.snappy.parquet.crc\n"
     ]
    }
   ],
   "source": [
    "tupple_list = []\n",
    "\n",
    "for file in list_file:\n",
    "    if file.startswith(key_start):\n",
    "        mode, ino, dev, nlink, uid, gid, size, atime, mtime, ctime = os.stat(path + file)\n",
    "        tupple_list.append((file, ctime))\n",
    "\n",
    "tupple_list.sort(key = lambda x: x[1])\n",
    "\n",
    "len_t_l = len(tupple_list)\n",
    "\n",
    "for tup_file in tupple_list[0:len_t_l//2]:\n",
    "\n",
    "    print(tup_file[0])\n",
    "    #os.remove(path + tup_file[0])"
   ]
  },
  {
   "cell_type": "code",
   "execution_count": 29,
   "metadata": {},
   "outputs": [],
   "source": [
    "tupple_list.sort(key = lambda x: x[1])"
   ]
  },
  {
   "cell_type": "code",
   "execution_count": 31,
   "metadata": {},
   "outputs": [
    {
     "data": {
      "text/plain": [
       "[('.part-00000-f88bb25f-cc6e-443c-bb30-ebc05288f83c-c000.snappy.parquet.crc',\n",
       "  1695900316),\n",
       " ('.part-00000-df9da2b8-606e-48bd-a4f7-2e19114e6e39-c000.snappy.parquet.crc',\n",
       "  1695900340)]"
      ]
     },
     "execution_count": 31,
     "metadata": {},
     "output_type": "execute_result"
    }
   ],
   "source": [
    "tupple_list"
   ]
  },
  {
   "cell_type": "code",
   "execution_count": 6,
   "metadata": {},
   "outputs": [],
   "source": [
    "(mode, ino, dev, nlink, uid, gid, size, atime, mtime, ctime) = os.stat(path)"
   ]
  },
  {
   "cell_type": "code",
   "execution_count": 7,
   "metadata": {},
   "outputs": [
    {
     "data": {
      "text/plain": [
       "1695908332"
      ]
     },
     "execution_count": 7,
     "metadata": {},
     "output_type": "execute_result"
    }
   ],
   "source": [
    "mtime"
   ]
  },
  {
   "cell_type": "code",
   "execution_count": 10,
   "metadata": {},
   "outputs": [],
   "source": [
    "a=time.ctime(mtime).split()"
   ]
  },
  {
   "cell_type": "code",
   "execution_count": null,
   "metadata": {},
   "outputs": [],
   "source": [
    "\n",
    "a=time.ctime(mtime).split(); b=[]\n",
    "b.append(a[4]); b.append(a[1]); b.append(a[0]); b.append(a[3])\n",
    "print b"
   ]
  }
 ],
 "metadata": {
  "kernelspec": {
   "display_name": "ECartoMobile",
   "language": "python",
   "name": "python3"
  },
  "language_info": {
   "codemirror_mode": {
    "name": "ipython",
    "version": 3
   },
   "file_extension": ".py",
   "mimetype": "text/x-python",
   "name": "python",
   "nbconvert_exporter": "python",
   "pygments_lexer": "ipython3",
   "version": "3.11.3"
  },
  "orig_nbformat": 4
 },
 "nbformat": 4,
 "nbformat_minor": 2
}
